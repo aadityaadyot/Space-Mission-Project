{
 "cells": [
  {
   "cell_type": "code",
   "execution_count": 1,
   "id": "c6ad29fd",
   "metadata": {},
   "outputs": [],
   "source": [
    "import pandas as pd\n",
    "import numpy as np\n",
    "import seaborn as sns\n",
    "import matplotlib.pyplot as plt\n",
    "import warnings\n",
    "warnings.filterwarnings('ignore')\n",
    "%matplotlib inline"
   ]
  },
  {
   "cell_type": "code",
   "execution_count": 2,
   "id": "3edd6c9e",
   "metadata": {},
   "outputs": [
    {
     "data": {
      "text/plain": [
       "{'encoding': 'ascii', 'confidence': 1.0, 'language': ''}"
      ]
     },
     "execution_count": 2,
     "metadata": {},
     "output_type": "execute_result"
    }
   ],
   "source": [
    "import chardet\n",
    "with open('data\\space_mission', 'rb') as f:\n",
    "    result = chardet.detect(f.read())\n",
    "result"
   ]
  },
  {
   "cell_type": "code",
   "execution_count": 3,
   "id": "c98cbade",
   "metadata": {
    "scrolled": true
   },
   "outputs": [
    {
     "data": {
      "text/html": [
       "<div>\n",
       "<style scoped>\n",
       "    .dataframe tbody tr th:only-of-type {\n",
       "        vertical-align: middle;\n",
       "    }\n",
       "\n",
       "    .dataframe tbody tr th {\n",
       "        vertical-align: top;\n",
       "    }\n",
       "\n",
       "    .dataframe thead th {\n",
       "        text-align: right;\n",
       "    }\n",
       "</style>\n",
       "<table border=\"1\" class=\"dataframe\">\n",
       "  <thead>\n",
       "    <tr style=\"text-align: right;\">\n",
       "      <th></th>\n",
       "      <th>Mission</th>\n",
       "      <th>Spacecraft</th>\n",
       "      <th>Mission Type</th>\n",
       "      <th>Outcome</th>\n",
       "      <th>Country</th>\n",
       "      <th>launch vehicle</th>\n",
       "      <th>Launch year</th>\n",
       "    </tr>\n",
       "  </thead>\n",
       "  <tbody>\n",
       "    <tr>\n",
       "      <th>0</th>\n",
       "      <td>Pioneer 0 (Able I)</td>\n",
       "      <td>Pioneer</td>\n",
       "      <td>Orbiter</td>\n",
       "      <td>Failure</td>\n",
       "      <td>USA</td>\n",
       "      <td>Thor</td>\n",
       "      <td>1958</td>\n",
       "    </tr>\n",
       "    <tr>\n",
       "      <th>1</th>\n",
       "      <td>Luna E-1 No.1</td>\n",
       "      <td>Luna</td>\n",
       "      <td>Impactor</td>\n",
       "      <td>Failure</td>\n",
       "      <td>Russia</td>\n",
       "      <td>Luna</td>\n",
       "      <td>1958</td>\n",
       "    </tr>\n",
       "    <tr>\n",
       "      <th>2</th>\n",
       "      <td>Pioneer 1 (Able II)</td>\n",
       "      <td>Pioneer</td>\n",
       "      <td>Orbiter</td>\n",
       "      <td>Failure</td>\n",
       "      <td>USA</td>\n",
       "      <td>Thor</td>\n",
       "      <td>1958</td>\n",
       "    </tr>\n",
       "    <tr>\n",
       "      <th>3</th>\n",
       "      <td>Luna E-1 No.2</td>\n",
       "      <td>Luna</td>\n",
       "      <td>Impactor</td>\n",
       "      <td>Failure</td>\n",
       "      <td>Russia</td>\n",
       "      <td>Luna</td>\n",
       "      <td>1958</td>\n",
       "    </tr>\n",
       "    <tr>\n",
       "      <th>4</th>\n",
       "      <td>Pioneer 2 (Able III)</td>\n",
       "      <td>Pioneer</td>\n",
       "      <td>Orbiter</td>\n",
       "      <td>Failure</td>\n",
       "      <td>USA</td>\n",
       "      <td>Thor</td>\n",
       "      <td>1958</td>\n",
       "    </tr>\n",
       "    <tr>\n",
       "      <th>...</th>\n",
       "      <td>...</td>\n",
       "      <td>...</td>\n",
       "      <td>...</td>\n",
       "      <td>...</td>\n",
       "      <td>...</td>\n",
       "      <td>...</td>\n",
       "      <td>...</td>\n",
       "    </tr>\n",
       "    <tr>\n",
       "      <th>151</th>\n",
       "      <td>SORA-Q</td>\n",
       "      <td>SORA-Q</td>\n",
       "      <td>Rover</td>\n",
       "      <td>Failure</td>\n",
       "      <td>Japan</td>\n",
       "      <td>Falcon</td>\n",
       "      <td>2022</td>\n",
       "    </tr>\n",
       "    <tr>\n",
       "      <th>152</th>\n",
       "      <td>Emirates Lunar Mission</td>\n",
       "      <td>Rashid</td>\n",
       "      <td>Rover</td>\n",
       "      <td>Failure</td>\n",
       "      <td>UAE</td>\n",
       "      <td>Falcon</td>\n",
       "      <td>2022</td>\n",
       "    </tr>\n",
       "    <tr>\n",
       "      <th>153</th>\n",
       "      <td>Lunar Flashlight</td>\n",
       "      <td>Lunar</td>\n",
       "      <td>Flyby</td>\n",
       "      <td>Failure</td>\n",
       "      <td>USA</td>\n",
       "      <td>Falcon</td>\n",
       "      <td>2022</td>\n",
       "    </tr>\n",
       "    <tr>\n",
       "      <th>154</th>\n",
       "      <td>Chandrayaan-3</td>\n",
       "      <td>Chandrayaan-3</td>\n",
       "      <td>Orbiter</td>\n",
       "      <td>Successful</td>\n",
       "      <td>India</td>\n",
       "      <td>LVM3</td>\n",
       "      <td>2023</td>\n",
       "    </tr>\n",
       "    <tr>\n",
       "      <th>155</th>\n",
       "      <td>Luna 25</td>\n",
       "      <td>Luna</td>\n",
       "      <td>Lander</td>\n",
       "      <td>Failure</td>\n",
       "      <td>Russia</td>\n",
       "      <td>Soyuz-2.1b/Fregat</td>\n",
       "      <td>2023</td>\n",
       "    </tr>\n",
       "  </tbody>\n",
       "</table>\n",
       "<p>156 rows × 7 columns</p>\n",
       "</div>"
      ],
      "text/plain": [
       "                    Mission     Spacecraft Mission Type     Outcome Country  \\\n",
       "0        Pioneer 0 (Able I)        Pioneer      Orbiter     Failure     USA   \n",
       "1             Luna E-1 No.1           Luna     Impactor     Failure  Russia   \n",
       "2       Pioneer 1 (Able II)        Pioneer      Orbiter     Failure     USA   \n",
       "3             Luna E-1 No.2           Luna     Impactor     Failure  Russia   \n",
       "4      Pioneer 2 (Able III)        Pioneer      Orbiter     Failure     USA   \n",
       "..                      ...            ...          ...         ...     ...   \n",
       "151                  SORA-Q         SORA-Q        Rover     Failure   Japan   \n",
       "152  Emirates Lunar Mission         Rashid        Rover     Failure     UAE   \n",
       "153        Lunar Flashlight          Lunar        Flyby     Failure     USA   \n",
       "154           Chandrayaan-3  Chandrayaan-3      Orbiter  Successful   India   \n",
       "155                 Luna 25           Luna       Lander     Failure  Russia   \n",
       "\n",
       "        launch vehicle  Launch year  \n",
       "0                 Thor         1958  \n",
       "1                 Luna         1958  \n",
       "2                 Thor         1958  \n",
       "3                 Luna         1958  \n",
       "4                 Thor         1958  \n",
       "..                 ...          ...  \n",
       "151             Falcon         2022  \n",
       "152             Falcon         2022  \n",
       "153             Falcon         2022  \n",
       "154               LVM3         2023  \n",
       "155  Soyuz-2.1b/Fregat         2023  \n",
       "\n",
       "[156 rows x 7 columns]"
      ]
     },
     "execution_count": 3,
     "metadata": {},
     "output_type": "execute_result"
    }
   ],
   "source": [
    "space_mission = pd.read_csv('data\\space_mission', encoding= 'ascii')\n",
    "space_mission"
   ]
  },
  {
   "cell_type": "code",
   "execution_count": 4,
   "id": "6cd93d7a",
   "metadata": {},
   "outputs": [
    {
     "data": {
      "text/plain": [
       "Mission           0\n",
       "Spacecraft        0\n",
       "Mission Type      0\n",
       "Outcome           0\n",
       "Country           0\n",
       "launch vehicle    0\n",
       "Launch year       0\n",
       "dtype: int64"
      ]
     },
     "execution_count": 4,
     "metadata": {},
     "output_type": "execute_result"
    }
   ],
   "source": [
    "space_mission.isna().sum()"
   ]
  },
  {
   "cell_type": "code",
   "execution_count": null,
   "id": "092906ea",
   "metadata": {},
   "outputs": [],
   "source": []
  },
  {
   "cell_type": "code",
   "execution_count": 5,
   "id": "77d13cd4",
   "metadata": {},
   "outputs": [
    {
     "data": {
      "text/plain": [
       "array(['Failure', 'Successful'], dtype=object)"
      ]
     },
     "execution_count": 5,
     "metadata": {},
     "output_type": "execute_result"
    }
   ],
   "source": [
    "space_mission['Outcome'].unique()"
   ]
  },
  {
   "cell_type": "code",
   "execution_count": 6,
   "id": "dbc987c8",
   "metadata": {},
   "outputs": [],
   "source": [
    "# Label Encoding by using map function\n",
    "space_mission['Outcome'] = space_mission['Outcome'].map({'Failure': 0, 'Successful': 1})"
   ]
  },
  {
   "cell_type": "code",
   "execution_count": 7,
   "id": "9fbd6e26",
   "metadata": {},
   "outputs": [],
   "source": [
    "# One hot encoding for Country\n",
    "df1= pd.get_dummies(space_mission['Country'],dummy_na= False )\n",
    "space_mission = pd.concat([space_mission, df1], axis=1)\n",
    "space_mission.drop('Country', axis=1, inplace = True)"
   ]
  },
  {
   "cell_type": "code",
   "execution_count": 8,
   "id": "ddcdb675",
   "metadata": {},
   "outputs": [
    {
     "data": {
      "text/html": [
       "<div>\n",
       "<style scoped>\n",
       "    .dataframe tbody tr th:only-of-type {\n",
       "        vertical-align: middle;\n",
       "    }\n",
       "\n",
       "    .dataframe tbody tr th {\n",
       "        vertical-align: top;\n",
       "    }\n",
       "\n",
       "    .dataframe thead th {\n",
       "        text-align: right;\n",
       "    }\n",
       "</style>\n",
       "<table border=\"1\" class=\"dataframe\">\n",
       "  <thead>\n",
       "    <tr style=\"text-align: right;\">\n",
       "      <th></th>\n",
       "      <th>Mission</th>\n",
       "      <th>Spacecraft</th>\n",
       "      <th>Mission Type</th>\n",
       "      <th>Outcome</th>\n",
       "      <th>launch vehicle</th>\n",
       "      <th>Launch year</th>\n",
       "      <th>China</th>\n",
       "      <th>European</th>\n",
       "      <th>India</th>\n",
       "      <th>Israel</th>\n",
       "      <th>Italy</th>\n",
       "      <th>Japan</th>\n",
       "      <th>Luxembourg</th>\n",
       "      <th>Russia</th>\n",
       "      <th>South Korea</th>\n",
       "      <th>UAE</th>\n",
       "      <th>USA</th>\n",
       "    </tr>\n",
       "  </thead>\n",
       "  <tbody>\n",
       "    <tr>\n",
       "      <th>0</th>\n",
       "      <td>Pioneer 0 (Able I)</td>\n",
       "      <td>Pioneer</td>\n",
       "      <td>Orbiter</td>\n",
       "      <td>0</td>\n",
       "      <td>Thor</td>\n",
       "      <td>1958</td>\n",
       "      <td>0</td>\n",
       "      <td>0</td>\n",
       "      <td>0</td>\n",
       "      <td>0</td>\n",
       "      <td>0</td>\n",
       "      <td>0</td>\n",
       "      <td>0</td>\n",
       "      <td>0</td>\n",
       "      <td>0</td>\n",
       "      <td>0</td>\n",
       "      <td>1</td>\n",
       "    </tr>\n",
       "    <tr>\n",
       "      <th>1</th>\n",
       "      <td>Luna E-1 No.1</td>\n",
       "      <td>Luna</td>\n",
       "      <td>Impactor</td>\n",
       "      <td>0</td>\n",
       "      <td>Luna</td>\n",
       "      <td>1958</td>\n",
       "      <td>0</td>\n",
       "      <td>0</td>\n",
       "      <td>0</td>\n",
       "      <td>0</td>\n",
       "      <td>0</td>\n",
       "      <td>0</td>\n",
       "      <td>0</td>\n",
       "      <td>1</td>\n",
       "      <td>0</td>\n",
       "      <td>0</td>\n",
       "      <td>0</td>\n",
       "    </tr>\n",
       "    <tr>\n",
       "      <th>2</th>\n",
       "      <td>Pioneer 1 (Able II)</td>\n",
       "      <td>Pioneer</td>\n",
       "      <td>Orbiter</td>\n",
       "      <td>0</td>\n",
       "      <td>Thor</td>\n",
       "      <td>1958</td>\n",
       "      <td>0</td>\n",
       "      <td>0</td>\n",
       "      <td>0</td>\n",
       "      <td>0</td>\n",
       "      <td>0</td>\n",
       "      <td>0</td>\n",
       "      <td>0</td>\n",
       "      <td>0</td>\n",
       "      <td>0</td>\n",
       "      <td>0</td>\n",
       "      <td>1</td>\n",
       "    </tr>\n",
       "    <tr>\n",
       "      <th>3</th>\n",
       "      <td>Luna E-1 No.2</td>\n",
       "      <td>Luna</td>\n",
       "      <td>Impactor</td>\n",
       "      <td>0</td>\n",
       "      <td>Luna</td>\n",
       "      <td>1958</td>\n",
       "      <td>0</td>\n",
       "      <td>0</td>\n",
       "      <td>0</td>\n",
       "      <td>0</td>\n",
       "      <td>0</td>\n",
       "      <td>0</td>\n",
       "      <td>0</td>\n",
       "      <td>1</td>\n",
       "      <td>0</td>\n",
       "      <td>0</td>\n",
       "      <td>0</td>\n",
       "    </tr>\n",
       "    <tr>\n",
       "      <th>4</th>\n",
       "      <td>Pioneer 2 (Able III)</td>\n",
       "      <td>Pioneer</td>\n",
       "      <td>Orbiter</td>\n",
       "      <td>0</td>\n",
       "      <td>Thor</td>\n",
       "      <td>1958</td>\n",
       "      <td>0</td>\n",
       "      <td>0</td>\n",
       "      <td>0</td>\n",
       "      <td>0</td>\n",
       "      <td>0</td>\n",
       "      <td>0</td>\n",
       "      <td>0</td>\n",
       "      <td>0</td>\n",
       "      <td>0</td>\n",
       "      <td>0</td>\n",
       "      <td>1</td>\n",
       "    </tr>\n",
       "  </tbody>\n",
       "</table>\n",
       "</div>"
      ],
      "text/plain": [
       "                Mission Spacecraft Mission Type  Outcome launch vehicle  \\\n",
       "0    Pioneer 0 (Able I)    Pioneer      Orbiter        0           Thor   \n",
       "1         Luna E-1 No.1       Luna     Impactor        0           Luna   \n",
       "2   Pioneer 1 (Able II)    Pioneer      Orbiter        0           Thor   \n",
       "3         Luna E-1 No.2       Luna     Impactor        0           Luna   \n",
       "4  Pioneer 2 (Able III)    Pioneer      Orbiter        0           Thor   \n",
       "\n",
       "   Launch year  China  European  India  Israel  Italy  Japan  Luxembourg  \\\n",
       "0         1958      0         0      0       0      0      0           0   \n",
       "1         1958      0         0      0       0      0      0           0   \n",
       "2         1958      0         0      0       0      0      0           0   \n",
       "3         1958      0         0      0       0      0      0           0   \n",
       "4         1958      0         0      0       0      0      0           0   \n",
       "\n",
       "   Russia  South Korea  UAE  USA  \n",
       "0       0            0    0    1  \n",
       "1       1            0    0    0  \n",
       "2       0            0    0    1  \n",
       "3       1            0    0    0  \n",
       "4       0            0    0    1  "
      ]
     },
     "execution_count": 8,
     "metadata": {},
     "output_type": "execute_result"
    }
   ],
   "source": [
    "space_mission.head(5)"
   ]
  },
  {
   "cell_type": "code",
   "execution_count": 9,
   "id": "605be4ec",
   "metadata": {},
   "outputs": [
    {
     "data": {
      "text/plain": [
       "array(['Thor', 'Luna', 'Juno', 'Atlas-D', 'Atlas', 'Molniya-L',\n",
       "       'Molniya-M', 'Molniya', 'Delta', 'Proton-K/D', 'Saturn', 'N1',\n",
       "       'Mu-3S-II', 'Mu-4S-II', 'Titan', 'Proton-K/DM3', 'Athena', 'M-V',\n",
       "       'Ariane', 'H-IIA', 'Long March', 'PSLV-XL', 'Minotaur', 'Falcon',\n",
       "       'LVM3', 'Electron', 'SLS', 'Soyuz-2.1b/Fregat'], dtype=object)"
      ]
     },
     "execution_count": 9,
     "metadata": {},
     "output_type": "execute_result"
    }
   ],
   "source": [
    "space_mission['launch vehicle'].unique()"
   ]
  },
  {
   "cell_type": "code",
   "execution_count": 10,
   "id": "d1787f92",
   "metadata": {
    "scrolled": true
   },
   "outputs": [
    {
     "data": {
      "text/plain": [
       "array(['Pioneer', 'Luna', 'E-1A', 'Ranger', 'Kosmos', 'Zond', 'Surveyor',\n",
       "       'Explorer', 'Lunar', 'Soyuz', 'Apollo', 'PFS-1', 'PFS-2',\n",
       "       'Mariner', 'ISEE-3', 'Hiten', 'Hagoromo', 'Geotail', 'WIND',\n",
       "       'Clementine', 'HGS-1', 'Nozomi', 'WMAP', 'SMART-1', 'STEREO',\n",
       "       'ARTEMIS', 'Kaguya', 'Okina', 'Ouna', \"Chang'e\", 'Chandrayaan-1',\n",
       "       'Moon', 'LCROSS', 'Ebb', 'Flow', 'LADEE', 'Yutu', 'Return',\n",
       "       'Manfred', 'TESS', 'Queqiao', 'Longjiang-1', 'Longjiang-2',\n",
       "       'Yutu-2', 'Beresheet', 'Chandrayaan-2', 'CAPSTONE', 'Danuri',\n",
       "       'Artemis', 'LunaH-Map', 'ArgoMoon', 'LunIR', 'Near-Earth',\n",
       "       'EQUULEUS', 'OMOTENASHI', 'BioSentinel', 'CubeSat', 'Team',\n",
       "       'Hakuto-R', 'SORA-Q', 'Rashid', 'Chandrayaan-3'], dtype=object)"
      ]
     },
     "execution_count": 10,
     "metadata": {},
     "output_type": "execute_result"
    }
   ],
   "source": [
    "space_mission['Spacecraft'].unique()"
   ]
  },
  {
   "cell_type": "code",
   "execution_count": 11,
   "id": "64d08063",
   "metadata": {
    "scrolled": true
   },
   "outputs": [
    {
     "data": {
      "text/plain": [
       "array(['Orbiter', 'Impactor', 'Flyby', 'Lander', 'Crewed orbiter',\n",
       "       'Orbiter,Lander,Rover', 'Lander,Sample Return', 'Rover',\n",
       "       'Flyby / Impactor (post mission)', 'Relay Satellite',\n",
       "       'Sample Return'], dtype=object)"
      ]
     },
     "execution_count": 11,
     "metadata": {},
     "output_type": "execute_result"
    }
   ],
   "source": [
    "space_mission['Mission Type'].unique()"
   ]
  },
  {
   "cell_type": "code",
   "execution_count": 12,
   "id": "3f5cd279",
   "metadata": {},
   "outputs": [
    {
     "data": {
      "text/html": [
       "<div>\n",
       "<style scoped>\n",
       "    .dataframe tbody tr th:only-of-type {\n",
       "        vertical-align: middle;\n",
       "    }\n",
       "\n",
       "    .dataframe tbody tr th {\n",
       "        vertical-align: top;\n",
       "    }\n",
       "\n",
       "    .dataframe thead th {\n",
       "        text-align: right;\n",
       "    }\n",
       "</style>\n",
       "<table border=\"1\" class=\"dataframe\">\n",
       "  <thead>\n",
       "    <tr style=\"text-align: right;\">\n",
       "      <th></th>\n",
       "      <th>Mission</th>\n",
       "      <th>Spacecraft</th>\n",
       "      <th>Mission Type</th>\n",
       "      <th>Outcome</th>\n",
       "      <th>launch vehicle</th>\n",
       "      <th>Launch year</th>\n",
       "      <th>China</th>\n",
       "      <th>European</th>\n",
       "      <th>India</th>\n",
       "      <th>Israel</th>\n",
       "      <th>Italy</th>\n",
       "      <th>Japan</th>\n",
       "      <th>Luxembourg</th>\n",
       "      <th>Russia</th>\n",
       "      <th>South Korea</th>\n",
       "      <th>UAE</th>\n",
       "      <th>USA</th>\n",
       "    </tr>\n",
       "  </thead>\n",
       "  <tbody>\n",
       "    <tr>\n",
       "      <th>62</th>\n",
       "      <td>Apollo 8</td>\n",
       "      <td>Apollo</td>\n",
       "      <td>Crewed orbiter</td>\n",
       "      <td>1</td>\n",
       "      <td>Saturn</td>\n",
       "      <td>1968</td>\n",
       "      <td>0</td>\n",
       "      <td>0</td>\n",
       "      <td>0</td>\n",
       "      <td>0</td>\n",
       "      <td>0</td>\n",
       "      <td>0</td>\n",
       "      <td>0</td>\n",
       "      <td>0</td>\n",
       "      <td>0</td>\n",
       "      <td>0</td>\n",
       "      <td>1</td>\n",
       "    </tr>\n",
       "  </tbody>\n",
       "</table>\n",
       "</div>"
      ],
      "text/plain": [
       "     Mission Spacecraft    Mission Type  Outcome launch vehicle  Launch year  \\\n",
       "62  Apollo 8     Apollo  Crewed orbiter        1         Saturn         1968   \n",
       "\n",
       "    China  European  India  Israel  Italy  Japan  Luxembourg  Russia  \\\n",
       "62      0         0      0       0      0      0           0       0   \n",
       "\n",
       "    South Korea  UAE  USA  \n",
       "62            0    0    1  "
      ]
     },
     "execution_count": 12,
     "metadata": {},
     "output_type": "execute_result"
    }
   ],
   "source": [
    "space_mission[space_mission['Mission Type'] == 'Crewed orbiter']"
   ]
  },
  {
   "cell_type": "code",
   "execution_count": 13,
   "id": "c968bdc4",
   "metadata": {},
   "outputs": [
    {
     "data": {
      "text/html": [
       "<div>\n",
       "<style scoped>\n",
       "    .dataframe tbody tr th:only-of-type {\n",
       "        vertical-align: middle;\n",
       "    }\n",
       "\n",
       "    .dataframe tbody tr th {\n",
       "        vertical-align: top;\n",
       "    }\n",
       "\n",
       "    .dataframe thead th {\n",
       "        text-align: right;\n",
       "    }\n",
       "</style>\n",
       "<table border=\"1\" class=\"dataframe\">\n",
       "  <thead>\n",
       "    <tr style=\"text-align: right;\">\n",
       "      <th></th>\n",
       "      <th>Mission</th>\n",
       "      <th>Spacecraft</th>\n",
       "      <th>Mission Type</th>\n",
       "      <th>Outcome</th>\n",
       "      <th>launch vehicle</th>\n",
       "      <th>Launch year</th>\n",
       "      <th>China</th>\n",
       "      <th>European</th>\n",
       "      <th>India</th>\n",
       "      <th>Israel</th>\n",
       "      <th>Italy</th>\n",
       "      <th>Japan</th>\n",
       "      <th>Luxembourg</th>\n",
       "      <th>Russia</th>\n",
       "      <th>South Korea</th>\n",
       "      <th>UAE</th>\n",
       "      <th>USA</th>\n",
       "    </tr>\n",
       "  </thead>\n",
       "  <tbody>\n",
       "    <tr>\n",
       "      <th>136</th>\n",
       "      <td>Chang'e 5</td>\n",
       "      <td>Chang'e</td>\n",
       "      <td>Sample Return</td>\n",
       "      <td>1</td>\n",
       "      <td>Long March</td>\n",
       "      <td>2020</td>\n",
       "      <td>1</td>\n",
       "      <td>0</td>\n",
       "      <td>0</td>\n",
       "      <td>0</td>\n",
       "      <td>0</td>\n",
       "      <td>0</td>\n",
       "      <td>0</td>\n",
       "      <td>0</td>\n",
       "      <td>0</td>\n",
       "      <td>0</td>\n",
       "      <td>0</td>\n",
       "    </tr>\n",
       "  </tbody>\n",
       "</table>\n",
       "</div>"
      ],
      "text/plain": [
       "       Mission Spacecraft   Mission Type  Outcome launch vehicle  Launch year  \\\n",
       "136  Chang'e 5    Chang'e  Sample Return        1     Long March         2020   \n",
       "\n",
       "     China  European  India  Israel  Italy  Japan  Luxembourg  Russia  \\\n",
       "136      1         0      0       0      0      0           0       0   \n",
       "\n",
       "     South Korea  UAE  USA  \n",
       "136            0    0    0  "
      ]
     },
     "execution_count": 13,
     "metadata": {},
     "output_type": "execute_result"
    }
   ],
   "source": [
    "space_mission[space_mission['Mission Type'] == 'Sample Return']"
   ]
  },
  {
   "cell_type": "code",
   "execution_count": 14,
   "id": "4031f6b8",
   "metadata": {},
   "outputs": [],
   "source": [
    "# Lets convert 'Crewed orbiter' --> 'Orbiter' and 'Lander,Sample Return' -- > 'Sample Return'"
   ]
  },
  {
   "cell_type": "code",
   "execution_count": 15,
   "id": "ecbe84ac",
   "metadata": {},
   "outputs": [],
   "source": [
    "space_mission['Mission Type'].replace({'Crewed orbiter':'Orbiter', 'Lander,Sample Return':'Sample Return'}, inplace = True )"
   ]
  },
  {
   "cell_type": "code",
   "execution_count": 16,
   "id": "505fdb02",
   "metadata": {},
   "outputs": [
    {
     "data": {
      "text/plain": [
       "array(['Orbiter', 'Impactor', 'Flyby', 'Lander', 'Orbiter,Lander,Rover',\n",
       "       'Sample Return', 'Rover', 'Flyby / Impactor (post mission)',\n",
       "       'Relay Satellite'], dtype=object)"
      ]
     },
     "execution_count": 16,
     "metadata": {},
     "output_type": "execute_result"
    }
   ],
   "source": [
    "space_mission['Mission Type'].unique()"
   ]
  },
  {
   "cell_type": "code",
   "execution_count": 17,
   "id": "df48f13d",
   "metadata": {},
   "outputs": [
    {
     "data": {
      "text/html": [
       "<div>\n",
       "<style scoped>\n",
       "    .dataframe tbody tr th:only-of-type {\n",
       "        vertical-align: middle;\n",
       "    }\n",
       "\n",
       "    .dataframe tbody tr th {\n",
       "        vertical-align: top;\n",
       "    }\n",
       "\n",
       "    .dataframe thead th {\n",
       "        text-align: right;\n",
       "    }\n",
       "</style>\n",
       "<table border=\"1\" class=\"dataframe\">\n",
       "  <thead>\n",
       "    <tr style=\"text-align: right;\">\n",
       "      <th></th>\n",
       "      <th>Mission</th>\n",
       "      <th>Spacecraft</th>\n",
       "      <th>Mission Type</th>\n",
       "      <th>Outcome</th>\n",
       "      <th>launch vehicle</th>\n",
       "      <th>Launch year</th>\n",
       "      <th>China</th>\n",
       "      <th>European</th>\n",
       "      <th>India</th>\n",
       "      <th>Israel</th>\n",
       "      <th>Italy</th>\n",
       "      <th>Japan</th>\n",
       "      <th>Luxembourg</th>\n",
       "      <th>Russia</th>\n",
       "      <th>South Korea</th>\n",
       "      <th>UAE</th>\n",
       "      <th>USA</th>\n",
       "    </tr>\n",
       "  </thead>\n",
       "  <tbody>\n",
       "    <tr>\n",
       "      <th>92</th>\n",
       "      <td>Luna E-8-5M No.412</td>\n",
       "      <td>Luna</td>\n",
       "      <td>Sample Return</td>\n",
       "      <td>0</td>\n",
       "      <td>Proton-K/D</td>\n",
       "      <td>1975</td>\n",
       "      <td>0</td>\n",
       "      <td>0</td>\n",
       "      <td>0</td>\n",
       "      <td>0</td>\n",
       "      <td>0</td>\n",
       "      <td>0</td>\n",
       "      <td>0</td>\n",
       "      <td>1</td>\n",
       "      <td>0</td>\n",
       "      <td>0</td>\n",
       "      <td>0</td>\n",
       "    </tr>\n",
       "    <tr>\n",
       "      <th>93</th>\n",
       "      <td>Luna 24</td>\n",
       "      <td>Luna</td>\n",
       "      <td>Sample Return</td>\n",
       "      <td>1</td>\n",
       "      <td>Proton-K/D</td>\n",
       "      <td>1976</td>\n",
       "      <td>0</td>\n",
       "      <td>0</td>\n",
       "      <td>0</td>\n",
       "      <td>0</td>\n",
       "      <td>0</td>\n",
       "      <td>0</td>\n",
       "      <td>0</td>\n",
       "      <td>1</td>\n",
       "      <td>0</td>\n",
       "      <td>0</td>\n",
       "      <td>0</td>\n",
       "    </tr>\n",
       "    <tr>\n",
       "      <th>136</th>\n",
       "      <td>Chang'e 5</td>\n",
       "      <td>Chang'e</td>\n",
       "      <td>Sample Return</td>\n",
       "      <td>1</td>\n",
       "      <td>Long March</td>\n",
       "      <td>2020</td>\n",
       "      <td>1</td>\n",
       "      <td>0</td>\n",
       "      <td>0</td>\n",
       "      <td>0</td>\n",
       "      <td>0</td>\n",
       "      <td>0</td>\n",
       "      <td>0</td>\n",
       "      <td>0</td>\n",
       "      <td>0</td>\n",
       "      <td>0</td>\n",
       "      <td>0</td>\n",
       "    </tr>\n",
       "  </tbody>\n",
       "</table>\n",
       "</div>"
      ],
      "text/plain": [
       "                Mission Spacecraft   Mission Type  Outcome launch vehicle  \\\n",
       "92   Luna E-8-5M No.412       Luna  Sample Return        0     Proton-K/D   \n",
       "93              Luna 24       Luna  Sample Return        1     Proton-K/D   \n",
       "136           Chang'e 5    Chang'e  Sample Return        1     Long March   \n",
       "\n",
       "     Launch year  China  European  India  Israel  Italy  Japan  Luxembourg  \\\n",
       "92          1975      0         0      0       0      0      0           0   \n",
       "93          1976      0         0      0       0      0      0           0   \n",
       "136         2020      1         0      0       0      0      0           0   \n",
       "\n",
       "     Russia  South Korea  UAE  USA  \n",
       "92        1            0    0    0  \n",
       "93        1            0    0    0  \n",
       "136       0            0    0    0  "
      ]
     },
     "execution_count": 17,
     "metadata": {},
     "output_type": "execute_result"
    }
   ],
   "source": [
    "space_mission[space_mission['Mission Type'] == 'Sample Return']"
   ]
  },
  {
   "cell_type": "markdown",
   "id": "6323a035",
   "metadata": {},
   "source": [
    "#### Lets replace Mission Type 'Orbiter,Lander,Rover' --> 'Lander' || 'Rover' --> 'Lander' || 'Flyby / Impactor (post mission)' -->'Flyby' || 'Sample Return' --> 'Lander' || 'Relay Satellite' --> 'Orbiter' || 'Impactor' --> 'Flyby'"
   ]
  },
  {
   "cell_type": "code",
   "execution_count": 18,
   "id": "5eecc4ce",
   "metadata": {},
   "outputs": [],
   "source": [
    "space_mission['Mission Type'].replace({'Orbiter,Lander,Rover':'Lander', 'Rover': 'Lander','Flyby / Impactor (post mission)':'Flyby',\n",
    "                                      'Sample Return': 'Lander','Relay Satellite' : 'Orbiter', 'Impactor' : 'Flyby' }, inplace = True)"
   ]
  },
  {
   "cell_type": "code",
   "execution_count": 19,
   "id": "d82d64d8",
   "metadata": {},
   "outputs": [
    {
     "data": {
      "text/plain": [
       "array(['Orbiter', 'Flyby', 'Lander'], dtype=object)"
      ]
     },
     "execution_count": 19,
     "metadata": {},
     "output_type": "execute_result"
    }
   ],
   "source": [
    "space_mission['Mission Type'].unique()"
   ]
  },
  {
   "cell_type": "code",
   "execution_count": 20,
   "id": "afdb0f4a",
   "metadata": {},
   "outputs": [
    {
     "data": {
      "text/html": [
       "<div>\n",
       "<style scoped>\n",
       "    .dataframe tbody tr th:only-of-type {\n",
       "        vertical-align: middle;\n",
       "    }\n",
       "\n",
       "    .dataframe tbody tr th {\n",
       "        vertical-align: top;\n",
       "    }\n",
       "\n",
       "    .dataframe thead th {\n",
       "        text-align: right;\n",
       "    }\n",
       "</style>\n",
       "<table border=\"1\" class=\"dataframe\">\n",
       "  <thead>\n",
       "    <tr style=\"text-align: right;\">\n",
       "      <th></th>\n",
       "      <th>Mission</th>\n",
       "      <th>Spacecraft</th>\n",
       "      <th>Outcome</th>\n",
       "      <th>launch vehicle</th>\n",
       "      <th>Launch year</th>\n",
       "      <th>China</th>\n",
       "      <th>European</th>\n",
       "      <th>India</th>\n",
       "      <th>Israel</th>\n",
       "      <th>Italy</th>\n",
       "      <th>Japan</th>\n",
       "      <th>Luxembourg</th>\n",
       "      <th>Russia</th>\n",
       "      <th>South Korea</th>\n",
       "      <th>UAE</th>\n",
       "      <th>USA</th>\n",
       "      <th>Flyby</th>\n",
       "      <th>Lander</th>\n",
       "      <th>Orbiter</th>\n",
       "    </tr>\n",
       "  </thead>\n",
       "  <tbody>\n",
       "    <tr>\n",
       "      <th>0</th>\n",
       "      <td>Pioneer 0 (Able I)</td>\n",
       "      <td>Pioneer</td>\n",
       "      <td>0</td>\n",
       "      <td>Thor</td>\n",
       "      <td>1958</td>\n",
       "      <td>0</td>\n",
       "      <td>0</td>\n",
       "      <td>0</td>\n",
       "      <td>0</td>\n",
       "      <td>0</td>\n",
       "      <td>0</td>\n",
       "      <td>0</td>\n",
       "      <td>0</td>\n",
       "      <td>0</td>\n",
       "      <td>0</td>\n",
       "      <td>1</td>\n",
       "      <td>0</td>\n",
       "      <td>0</td>\n",
       "      <td>1</td>\n",
       "    </tr>\n",
       "    <tr>\n",
       "      <th>1</th>\n",
       "      <td>Luna E-1 No.1</td>\n",
       "      <td>Luna</td>\n",
       "      <td>0</td>\n",
       "      <td>Luna</td>\n",
       "      <td>1958</td>\n",
       "      <td>0</td>\n",
       "      <td>0</td>\n",
       "      <td>0</td>\n",
       "      <td>0</td>\n",
       "      <td>0</td>\n",
       "      <td>0</td>\n",
       "      <td>0</td>\n",
       "      <td>1</td>\n",
       "      <td>0</td>\n",
       "      <td>0</td>\n",
       "      <td>0</td>\n",
       "      <td>1</td>\n",
       "      <td>0</td>\n",
       "      <td>0</td>\n",
       "    </tr>\n",
       "    <tr>\n",
       "      <th>2</th>\n",
       "      <td>Pioneer 1 (Able II)</td>\n",
       "      <td>Pioneer</td>\n",
       "      <td>0</td>\n",
       "      <td>Thor</td>\n",
       "      <td>1958</td>\n",
       "      <td>0</td>\n",
       "      <td>0</td>\n",
       "      <td>0</td>\n",
       "      <td>0</td>\n",
       "      <td>0</td>\n",
       "      <td>0</td>\n",
       "      <td>0</td>\n",
       "      <td>0</td>\n",
       "      <td>0</td>\n",
       "      <td>0</td>\n",
       "      <td>1</td>\n",
       "      <td>0</td>\n",
       "      <td>0</td>\n",
       "      <td>1</td>\n",
       "    </tr>\n",
       "    <tr>\n",
       "      <th>3</th>\n",
       "      <td>Luna E-1 No.2</td>\n",
       "      <td>Luna</td>\n",
       "      <td>0</td>\n",
       "      <td>Luna</td>\n",
       "      <td>1958</td>\n",
       "      <td>0</td>\n",
       "      <td>0</td>\n",
       "      <td>0</td>\n",
       "      <td>0</td>\n",
       "      <td>0</td>\n",
       "      <td>0</td>\n",
       "      <td>0</td>\n",
       "      <td>1</td>\n",
       "      <td>0</td>\n",
       "      <td>0</td>\n",
       "      <td>0</td>\n",
       "      <td>1</td>\n",
       "      <td>0</td>\n",
       "      <td>0</td>\n",
       "    </tr>\n",
       "    <tr>\n",
       "      <th>4</th>\n",
       "      <td>Pioneer 2 (Able III)</td>\n",
       "      <td>Pioneer</td>\n",
       "      <td>0</td>\n",
       "      <td>Thor</td>\n",
       "      <td>1958</td>\n",
       "      <td>0</td>\n",
       "      <td>0</td>\n",
       "      <td>0</td>\n",
       "      <td>0</td>\n",
       "      <td>0</td>\n",
       "      <td>0</td>\n",
       "      <td>0</td>\n",
       "      <td>0</td>\n",
       "      <td>0</td>\n",
       "      <td>0</td>\n",
       "      <td>1</td>\n",
       "      <td>0</td>\n",
       "      <td>0</td>\n",
       "      <td>1</td>\n",
       "    </tr>\n",
       "  </tbody>\n",
       "</table>\n",
       "</div>"
      ],
      "text/plain": [
       "                Mission Spacecraft  Outcome launch vehicle  Launch year  \\\n",
       "0    Pioneer 0 (Able I)    Pioneer        0           Thor         1958   \n",
       "1         Luna E-1 No.1       Luna        0           Luna         1958   \n",
       "2   Pioneer 1 (Able II)    Pioneer        0           Thor         1958   \n",
       "3         Luna E-1 No.2       Luna        0           Luna         1958   \n",
       "4  Pioneer 2 (Able III)    Pioneer        0           Thor         1958   \n",
       "\n",
       "   China  European  India  Israel  Italy  Japan  Luxembourg  Russia  \\\n",
       "0      0         0      0       0      0      0           0       0   \n",
       "1      0         0      0       0      0      0           0       1   \n",
       "2      0         0      0       0      0      0           0       0   \n",
       "3      0         0      0       0      0      0           0       1   \n",
       "4      0         0      0       0      0      0           0       0   \n",
       "\n",
       "   South Korea  UAE  USA  Flyby  Lander  Orbiter  \n",
       "0            0    0    1      0       0        1  \n",
       "1            0    0    0      1       0        0  \n",
       "2            0    0    1      0       0        1  \n",
       "3            0    0    0      1       0        0  \n",
       "4            0    0    1      0       0        1  "
      ]
     },
     "execution_count": 20,
     "metadata": {},
     "output_type": "execute_result"
    }
   ],
   "source": [
    "df1 = pd.get_dummies(space_mission['Mission Type'])\n",
    "space_mission = pd.concat([space_mission, df1], axis = 1)\n",
    "space_mission.drop('Mission Type', axis=1, inplace = True)\n",
    "space_mission.head()"
   ]
  },
  {
   "cell_type": "markdown",
   "id": "2dc7c7a0",
   "metadata": {},
   "source": [
    "# Logistics Regression ML Model"
   ]
  },
  {
   "cell_type": "code",
   "execution_count": 21,
   "id": "cebf3b97",
   "metadata": {},
   "outputs": [],
   "source": [
    "X= space_mission.drop(['Mission', 'Spacecraft', 'launch vehicle','Outcome' ], axis = 1)\n",
    "y= space_mission['Outcome']"
   ]
  },
  {
   "cell_type": "code",
   "execution_count": 22,
   "id": "81ba85ba",
   "metadata": {},
   "outputs": [],
   "source": [
    "#make train test split\n",
    "from sklearn.model_selection import train_test_split\n",
    "X_train, X_test, y_train, y_test = train_test_split(X, y, random_state=42, test_size=0.33)"
   ]
  },
  {
   "cell_type": "code",
   "execution_count": 23,
   "id": "d4239c43",
   "metadata": {},
   "outputs": [],
   "source": [
    "# Standardise the data\n",
    "from sklearn.preprocessing import StandardScaler\n",
    "scaler = StandardScaler()\n",
    "X_train= scaler.fit_transform(X_train)\n",
    "X_test=scaler.transform(X_test)"
   ]
  },
  {
   "cell_type": "code",
   "execution_count": null,
   "id": "1dac3ed1",
   "metadata": {},
   "outputs": [],
   "source": []
  },
  {
   "cell_type": "code",
   "execution_count": 24,
   "id": "400aecfd",
   "metadata": {},
   "outputs": [],
   "source": [
    "# Logistics model\n",
    "from sklearn.linear_model import LogisticRegression\n",
    "LR = LogisticRegression()\n",
    "LR.fit(X_train, y_train)\n",
    "pred_data = LR.predict(X_test)"
   ]
  },
  {
   "cell_type": "code",
   "execution_count": 25,
   "id": "8f78fd0d",
   "metadata": {},
   "outputs": [
    {
     "name": "stdout",
     "output_type": "stream",
     "text": [
      "Accuracy score is:  0.6538461538461539\n",
      "Recall Score is :  0.7272727272727273\n",
      "Precision score is :  0.7272727272727273\n"
     ]
    }
   ],
   "source": [
    "# Calculating the Precision, Recall, Accuracy score\n",
    "from sklearn.metrics import accuracy_score, recall_score, precision_score, confusion_matrix, roc_auc_score, roc_curve\n",
    "accuracy = accuracy_score(y_test, pred_data)\n",
    "recall = recall_score(y_test, pred_data)\n",
    "precision = precision_score(y_test, pred_data)\n",
    "print('Accuracy score is: ',accuracy_score(y_test, pred_data))\n",
    "print('Recall Score is : ',recall_score(y_test, pred_data))\n",
    "print('Precision score is : ',precision_score(y_test, pred_data))"
   ]
  },
  {
   "cell_type": "code",
   "execution_count": 26,
   "id": "98522d03",
   "metadata": {},
   "outputs": [
    {
     "data": {
      "text/plain": [
       "array([[10,  9],\n",
       "       [ 9, 24]], dtype=int64)"
      ]
     },
     "execution_count": 26,
     "metadata": {},
     "output_type": "execute_result"
    }
   ],
   "source": [
    "CM= confusion_matrix(y_test, pred_data)\n",
    "CM"
   ]
  },
  {
   "cell_type": "code",
   "execution_count": 27,
   "id": "4e702385",
   "metadata": {},
   "outputs": [
    {
     "data": {
      "text/plain": [
       "0.6538461538461539"
      ]
     },
     "execution_count": 27,
     "metadata": {},
     "output_type": "execute_result"
    }
   ],
   "source": [
    "TP= CM[0][0]\n",
    "FP = CM[0][1]\n",
    "FN= CM[1][0]\n",
    "TN=CM[1][1]\n",
    "Accuracy = (TP + TN)/(TP + TN+ FN+ FP)\n",
    "Accuracy"
   ]
  },
  {
   "cell_type": "code",
   "execution_count": 28,
   "id": "83d43a04",
   "metadata": {},
   "outputs": [
    {
     "data": {
      "text/plain": [
       "0.7272727272727273"
      ]
     },
     "execution_count": 28,
     "metadata": {},
     "output_type": "execute_result"
    }
   ],
   "source": [
    "F1_score = 2 * (recall * precision)/(recall + precision)\n",
    "F1_score"
   ]
  },
  {
   "cell_type": "code",
   "execution_count": 29,
   "id": "6b8a0e98",
   "metadata": {},
   "outputs": [
    {
     "data": {
      "text/plain": [
       "0.6267942583732058"
      ]
     },
     "execution_count": 29,
     "metadata": {},
     "output_type": "execute_result"
    }
   ],
   "source": [
    "auc= roc_auc_score(y_test, pred_data)\n",
    "auc"
   ]
  },
  {
   "cell_type": "code",
   "execution_count": 30,
   "id": "c93c7f81",
   "metadata": {},
   "outputs": [
    {
     "data": {
      "image/png": "[encoded data removed]",
      "text/plain": [
       "<Figure size 640x480 with 1 Axes>"
      ]
     },
     "metadata": {},
     "output_type": "display_data"
    }
   ],
   "source": [
    "# ROC\n",
    "TPR, FPR, Treshold = roc_curve(y_test, pred_data)\n",
    "plt.plot(TPR, FPR, label= \"ROC\", color= 'orange')\n",
    "plt.plot([0,1], [0,1], color= 'blue', label= 'ROC curve (area = %0.2f)' % auc)\n",
    "plt.xlabel('False Positive Rate')\n",
    "plt.ylabel('True Positive Rate')\n",
    "plt.title('Receiver Operating Characteristic (ROC) Curve')\n",
    "plt.legend()\n",
    "plt.show()"
   ]
  },
  {
   "cell_type": "markdown",
   "id": "ccadbd03",
   "metadata": {},
   "source": [
    "# SVM--> SVC ML Model"
   ]
  },
  {
   "cell_type": "code",
   "execution_count": 31,
   "id": "cf7e01fa",
   "metadata": {},
   "outputs": [],
   "source": [
    "X= space_mission.drop(['Mission', 'Spacecraft', 'launch vehicle','Outcome' ], axis = 1)\n",
    "y= space_mission['Outcome']\n",
    "#make train test split\n",
    "from sklearn.model_selection import train_test_split\n",
    "X_train, X_test, y_train, y_test = train_test_split(X, y, random_state=42, test_size=0.33)\n",
    "# Standardise the data\n",
    "from sklearn.preprocessing import StandardScaler\n",
    "scaler = StandardScaler()\n",
    "X_train= scaler.fit_transform(X_train)\n",
    "X_test=scaler.transform(X_test)\n",
    "\n",
    "from sklearn.svm import SVC\n",
    "svc = SVC()\n",
    "svc.fit(X_train, y_train)\n",
    "pred_data= svc.predict(X_test)"
   ]
  },
  {
   "cell_type": "code",
   "execution_count": 32,
   "id": "2f425dae",
   "metadata": {},
   "outputs": [
    {
     "name": "stdout",
     "output_type": "stream",
     "text": [
      "Accuracy score is:  0.6923076923076923\n",
      "Recall Score is :  0.7575757575757576\n",
      "Precision score is :  0.7575757575757576\n",
      "Confusion Matrix is :  [[11  8]\n",
      " [ 8 25]]\n",
      "F1_score is :  0.7575757575757576\n",
      "auc is :  0.6682615629984051\n"
     ]
    }
   ],
   "source": [
    "# Calculating the Precision, Recall, Accuracy score\n",
    "from sklearn.metrics import accuracy_score, recall_score, precision_score, confusion_matrix, roc_auc_score, roc_curve\n",
    "accuracy = accuracy_score(y_test, pred_data)\n",
    "recall = recall_score(y_test, pred_data)\n",
    "precision = precision_score(y_test, pred_data)\n",
    "print('Accuracy score is: ',accuracy_score(y_test, pred_data))\n",
    "print('Recall Score is : ',recall_score(y_test, pred_data))\n",
    "print('Precision score is : ',precision_score(y_test, pred_data))\n",
    "CM= confusion_matrix(y_test, pred_data)\n",
    "print(\"Confusion Matrix is : \", CM)\n",
    "F1_score = 2 * (recall * precision)/(recall + precision)\n",
    "print(\"F1_score is : \", F1_score)\n",
    "auc= roc_auc_score(y_test, pred_data)\n",
    "print(\"auc is : \", auc)"
   ]
  },
  {
   "cell_type": "code",
   "execution_count": 33,
   "id": "dd8bed12",
   "metadata": {},
   "outputs": [
    {
     "data": {
      "image/png": "[encoded data removed]",
      "text/plain": [
       "<Figure size 640x480 with 1 Axes>"
      ]
     },
     "metadata": {},
     "output_type": "display_data"
    }
   ],
   "source": [
    "# ROC\n",
    "TPR, FPR, Treshold = roc_curve(y_test, pred_data)\n",
    "plt.plot(TPR, FPR, label= \"ROC\", color= 'orange')\n",
    "plt.plot([0,1], [0,1], color= 'blue', label= 'ROC curve (area = %0.2f)' % auc)\n",
    "plt.xlabel('False Positive Rate')\n",
    "plt.ylabel('True Positive Rate')\n",
    "plt.title('Receiver Operating Characteristic (ROC) Curve')\n",
    "plt.legend()\n",
    "plt.show()"
   ]
  },
  {
   "cell_type": "markdown",
   "id": "02901fbd",
   "metadata": {},
   "source": [
    "# Decision Tree"
   ]
  },
  {
   "cell_type": "code",
   "execution_count": 34,
   "id": "937baf20",
   "metadata": {},
   "outputs": [],
   "source": [
    "#Importing and fiting the data in Decision Tree Classifier\n",
    "from sklearn.tree  import DecisionTreeClassifier\n",
    "regressor = DecisionTreeClassifier()\n",
    "regressor.fit(X_train, y_train)\n",
    "# Predicting the test data\n",
    "pred_data = regressor.predict(X_test)"
   ]
  },
  {
   "cell_type": "code",
   "execution_count": 35,
   "id": "d37bd605",
   "metadata": {},
   "outputs": [],
   "source": [
    "# Predicting the training data\n",
    "Training_data_Prediction= regressor.predict(X_train)"
   ]
  },
  {
   "cell_type": "code",
   "execution_count": 36,
   "id": "afab3a8f",
   "metadata": {},
   "outputs": [
    {
     "data": {
      "text/plain": [
       "0.7115384615384616"
      ]
     },
     "execution_count": 36,
     "metadata": {},
     "output_type": "execute_result"
    }
   ],
   "source": [
    "# Calculating the Test data accuracy\n",
    "Accuracy_test_data = accuracy_score(y_test, pred_data)\n",
    "Accuracy_test_data"
   ]
  },
  {
   "cell_type": "code",
   "execution_count": 37,
   "id": "412d0069",
   "metadata": {},
   "outputs": [
    {
     "data": {
      "text/plain": [
       "0.9038461538461539"
      ]
     },
     "execution_count": 37,
     "metadata": {},
     "output_type": "execute_result"
    }
   ],
   "source": [
    "# Calculating the Train data accuracy\n",
    "Accuracy_training_data = accuracy_score(y_train, Training_data_Prediction)\n",
    "Accuracy_training_data"
   ]
  },
  {
   "cell_type": "markdown",
   "id": "66e1f464",
   "metadata": {},
   "source": [
    "#### We can clearly see that there is huge difference between train data accuracy score and test data accuracy score, this is a clear sign of overfitting data."
   ]
  },
  {
   "cell_type": "markdown",
   "id": "2697309b",
   "metadata": {},
   "source": [
    "## GridSearchCV"
   ]
  },
  {
   "cell_type": "code",
   "execution_count": 38,
   "id": "9882537b",
   "metadata": {},
   "outputs": [],
   "source": [
    "## Hyperparameter tuning\n",
    "\n",
    "hyperparameter = {\n",
    "    'criterion' : [\"gini\", \"entropy\", \"log_loss\"], \n",
    "    'splitter' : [\"best\", \"random\"], \n",
    "    'max_depth' : [1,2,3,4,5,6,7,8,9,10,11,12],\n",
    "    'max_features' : [\"auto\", \"sqrt\", \"log2\"]\n",
    "}\n",
    "regressor = DecisionTreeClassifier()"
   ]
  },
  {
   "cell_type": "code",
   "execution_count": 39,
   "id": "f2c27f5d",
   "metadata": {},
   "outputs": [],
   "source": [
    "# Using GridSearchCV \n",
    "from sklearn.model_selection import GridSearchCV\n",
    "from sklearn.metrics import accuracy_score, make_scorer\n",
    "scoring = {\"AUC\": \"roc_auc\", \"Accuracy\": make_scorer(accuracy_score)}\n",
    "regressorCV = GridSearchCV(regressor, param_grid=hyperparameter, cv=5,scoring=scoring, refit=\"AUC\", n_jobs=2, \n",
    "                           return_train_score=True)"
   ]
  },
  {
   "cell_type": "code",
   "execution_count": 40,
   "id": "00034b31",
   "metadata": {},
   "outputs": [
    {
     "data": {
      "text/html": [
       "<style>#sk-container-id-1 {color: black;}#sk-container-id-1 pre{padding: 0;}#sk-container-id-1 div.sk-toggleable {background-color: white;}#sk-container-id-1 label.sk-toggleable__label {cursor: pointer;display: block;width: 100%;margin-bottom: 0;padding: 0.3em;box-sizing: border-box;text-align: center;}#sk-container-id-1 label.sk-toggleable__label-arrow:before {content: \"▸\";float: left;margin-right: 0.25em;color: #696969;}#sk-container-id-1 label.sk-toggleable__label-arrow:hover:before {color: black;}#sk-container-id-1 div.sk-estimator:hover label.sk-toggleable__label-arrow:before {color: black;}#sk-container-id-1 div.sk-toggleable__content {max-height: 0;max-width: 0;overflow: hidden;text-align: left;background-color: #f0f8ff;}#sk-container-id-1 div.sk-toggleable__content pre {margin: 0.2em;color: black;border-radius: 0.25em;background-color: #f0f8ff;}#sk-container-id-1 input.sk-toggleable__control:checked~div.sk-toggleable__content {max-height: 200px;max-width: 100%;overflow: auto;}#sk-container-id-1 input.sk-toggleable__control:checked~label.sk-toggleable__label-arrow:before {content: \"▾\";}#sk-container-id-1 div.sk-estimator input.sk-toggleable__control:checked~label.sk-toggleable__label {background-color: #d4ebff;}#sk-container-id-1 div.sk-label input.sk-toggleable__control:checked~label.sk-toggleable__label {background-color: #d4ebff;}#sk-container-id-1 input.sk-hidden--visually {border: 0;clip: rect(1px 1px 1px 1px);clip: rect(1px, 1px, 1px, 1px);height: 1px;margin: -1px;overflow: hidden;padding: 0;position: absolute;width: 1px;}#sk-container-id-1 div.sk-estimator {font-family: monospace;background-color: #f0f8ff;border: 1px dotted black;border-radius: 0.25em;box-sizing: border-box;margin-bottom: 0.5em;}#sk-container-id-1 div.sk-estimator:hover {background-color: #d4ebff;}#sk-container-id-1 div.sk-parallel-item::after {content: \"\";width: 100%;border-bottom: 1px solid gray;flex-grow: 1;}#sk-container-id-1 div.sk-label:hover label.sk-toggleable__label {background-color: #d4ebff;}#sk-container-id-1 div.sk-serial::before {content: \"\";position: absolute;border-left: 1px solid gray;box-sizing: border-box;top: 0;bottom: 0;left: 50%;z-index: 0;}#sk-container-id-1 div.sk-serial {display: flex;flex-direction: column;align-items: center;background-color: white;padding-right: 0.2em;padding-left: 0.2em;position: relative;}#sk-container-id-1 div.sk-item {position: relative;z-index: 1;}#sk-container-id-1 div.sk-parallel {display: flex;align-items: stretch;justify-content: center;background-color: white;position: relative;}#sk-container-id-1 div.sk-item::before, #sk-container-id-1 div.sk-parallel-item::before {content: \"\";position: absolute;border-left: 1px solid gray;box-sizing: border-box;top: 0;bottom: 0;left: 50%;z-index: -1;}#sk-container-id-1 div.sk-parallel-item {display: flex;flex-direction: column;z-index: 1;position: relative;background-color: white;}#sk-container-id-1 div.sk-parallel-item:first-child::after {align-self: flex-end;width: 50%;}#sk-container-id-1 div.sk-parallel-item:last-child::after {align-self: flex-start;width: 50%;}#sk-container-id-1 div.sk-parallel-item:only-child::after {width: 0;}#sk-container-id-1 div.sk-dashed-wrapped {border: 1px dashed gray;margin: 0 0.4em 0.5em 0.4em;box-sizing: border-box;padding-bottom: 0.4em;background-color: white;}#sk-container-id-1 div.sk-label label {font-family: monospace;font-weight: bold;display: inline-block;line-height: 1.2em;}#sk-container-id-1 div.sk-label-container {text-align: center;}#sk-container-id-1 div.sk-container {/* jupyter's `normalize.less` sets `[hidden] { display: none; }` but bootstrap.min.css set `[hidden] { display: none !important; }` so we also need the `!important` here to be able to override the default hidden behavior on the sphinx rendered scikit-learn.org. See: https://github.com/scikit-learn/scikit-learn/issues/21755 */display: inline-block !important;position: relative;}#sk-container-id-1 div.sk-text-repr-fallback {display: none;}</style><div id=\"sk-container-id-1\" class=\"sk-top-container\"><div class=\"sk-text-repr-fallback\"><pre>GridSearchCV(cv=5, estimator=DecisionTreeClassifier(), n_jobs=2,\n",
       "             param_grid={&#x27;criterion&#x27;: [&#x27;gini&#x27;, &#x27;entropy&#x27;, &#x27;log_loss&#x27;],\n",
       "                         &#x27;max_depth&#x27;: [1, 2, 3, 4, 5, 6, 7, 8, 9, 10, 11, 12],\n",
       "                         &#x27;max_features&#x27;: [&#x27;auto&#x27;, &#x27;sqrt&#x27;, &#x27;log2&#x27;],\n",
       "                         &#x27;splitter&#x27;: [&#x27;best&#x27;, &#x27;random&#x27;]},\n",
       "             refit=&#x27;AUC&#x27;, return_train_score=True,\n",
       "             scoring={&#x27;AUC&#x27;: &#x27;roc_auc&#x27;,\n",
       "                      &#x27;Accuracy&#x27;: make_scorer(accuracy_score)})</pre><b>In a Jupyter environment, please rerun this cell to show the HTML representation or trust the notebook. <br />On GitHub, the HTML representation is unable to render, please try loading this page with nbviewer.org.</b></div><div class=\"sk-container\" hidden><div class=\"sk-item sk-dashed-wrapped\"><div class=\"sk-label-container\"><div class=\"sk-label sk-toggleable\"><input class=\"sk-toggleable__control sk-hidden--visually\" id=\"sk-estimator-id-1\" type=\"checkbox\" ><label for=\"sk-estimator-id-1\" class=\"sk-toggleable__label sk-toggleable__label-arrow\">GridSearchCV</label><div class=\"sk-toggleable__content\"><pre>GridSearchCV(cv=5, estimator=DecisionTreeClassifier(), n_jobs=2,\n",
       "             param_grid={&#x27;criterion&#x27;: [&#x27;gini&#x27;, &#x27;entropy&#x27;, &#x27;log_loss&#x27;],\n",
       "                         &#x27;max_depth&#x27;: [1, 2, 3, 4, 5, 6, 7, 8, 9, 10, 11, 12],\n",
       "                         &#x27;max_features&#x27;: [&#x27;auto&#x27;, &#x27;sqrt&#x27;, &#x27;log2&#x27;],\n",
       "                         &#x27;splitter&#x27;: [&#x27;best&#x27;, &#x27;random&#x27;]},\n",
       "             refit=&#x27;AUC&#x27;, return_train_score=True,\n",
       "             scoring={&#x27;AUC&#x27;: &#x27;roc_auc&#x27;,\n",
       "                      &#x27;Accuracy&#x27;: make_scorer(accuracy_score)})</pre></div></div></div><div class=\"sk-parallel\"><div class=\"sk-parallel-item\"><div class=\"sk-item\"><div class=\"sk-label-container\"><div class=\"sk-label sk-toggleable\"><input class=\"sk-toggleable__control sk-hidden--visually\" id=\"sk-estimator-id-2\" type=\"checkbox\" ><label for=\"sk-estimator-id-2\" class=\"sk-toggleable__label sk-toggleable__label-arrow\">estimator: DecisionTreeClassifier</label><div class=\"sk-toggleable__content\"><pre>DecisionTreeClassifier()</pre></div></div></div><div class=\"sk-serial\"><div class=\"sk-item\"><div class=\"sk-estimator sk-toggleable\"><input class=\"sk-toggleable__control sk-hidden--visually\" id=\"sk-estimator-id-3\" type=\"checkbox\" ><label for=\"sk-estimator-id-3\" class=\"sk-toggleable__label sk-toggleable__label-arrow\">DecisionTreeClassifier</label><div class=\"sk-toggleable__content\"><pre>DecisionTreeClassifier()</pre></div></div></div></div></div></div></div></div></div></div>"
      ],
      "text/plain": [
       "GridSearchCV(cv=5, estimator=DecisionTreeClassifier(), n_jobs=2,\n",
       "             param_grid={'criterion': ['gini', 'entropy', 'log_loss'],\n",
       "                         'max_depth': [1, 2, 3, 4, 5, 6, 7, 8, 9, 10, 11, 12],\n",
       "                         'max_features': ['auto', 'sqrt', 'log2'],\n",
       "                         'splitter': ['best', 'random']},\n",
       "             refit='AUC', return_train_score=True,\n",
       "             scoring={'AUC': 'roc_auc',\n",
       "                      'Accuracy': make_scorer(accuracy_score)})"
      ]
     },
     "execution_count": 40,
     "metadata": {},
     "output_type": "execute_result"
    }
   ],
   "source": [
    "regressorCV.fit(X_train, y_train)"
   ]
  },
  {
   "cell_type": "code",
   "execution_count": 41,
   "id": "69c13241",
   "metadata": {},
   "outputs": [
    {
     "data": {
      "text/plain": [
       "{'criterion': 'log_loss',\n",
       " 'max_depth': 5,\n",
       " 'max_features': 'sqrt',\n",
       " 'splitter': 'best'}"
      ]
     },
     "execution_count": 41,
     "metadata": {},
     "output_type": "execute_result"
    }
   ],
   "source": [
    "# Getting the best parameters from GridSearchCV\n",
    "regressorCV.best_params_"
   ]
  },
  {
   "cell_type": "code",
   "execution_count": 42,
   "id": "fc3e1632",
   "metadata": {},
   "outputs": [],
   "source": [
    "# Applying the best parameters inside the Decision Tree Classifier model. \n",
    "from sklearn.tree  import DecisionTreeClassifier\n",
    "regressor = DecisionTreeClassifier(criterion = 'log_loss',\n",
    "                                   max_depth = 4, max_features = 'log2', splitter = 'best')\n",
    "regressor.fit(X_train, y_train)\n",
    "pred_data = regressor.predict(X_test)"
   ]
  },
  {
   "cell_type": "code",
   "execution_count": 43,
   "id": "d83732fd",
   "metadata": {},
   "outputs": [],
   "source": [
    "# Predicting the training data\n",
    "Training_data_Prediction= regressor.predict(X_train)"
   ]
  },
  {
   "cell_type": "code",
   "execution_count": 44,
   "id": "14d728e5",
   "metadata": {},
   "outputs": [
    {
     "data": {
      "text/plain": [
       "0.7115384615384616"
      ]
     },
     "execution_count": 44,
     "metadata": {},
     "output_type": "execute_result"
    }
   ],
   "source": [
    "# Calculating the Test data accuracy\n",
    "Accuracy_test_data = accuracy_score(y_test, pred_data)\n",
    "Accuracy_test_data"
   ]
  },
  {
   "cell_type": "code",
   "execution_count": 45,
   "id": "de018cc0",
   "metadata": {},
   "outputs": [
    {
     "data": {
      "text/plain": [
       "0.8076923076923077"
      ]
     },
     "execution_count": 45,
     "metadata": {},
     "output_type": "execute_result"
    }
   ],
   "source": [
    "# Calculating the Train data accuracy\n",
    "Accuracy_training_data = accuracy_score(y_train, Training_data_Prediction)\n",
    "Accuracy_training_data"
   ]
  },
  {
   "cell_type": "markdown",
   "id": "8d00a800",
   "metadata": {},
   "source": [
    "##### This model has imploved a lot, compared to the previous one. we can clearly see there is low bias and low variance. Hence we can consider these parameters of GridSearchCV"
   ]
  },
  {
   "cell_type": "markdown",
   "id": "969e902b",
   "metadata": {},
   "source": [
    "## RandomSearchCV"
   ]
  },
  {
   "cell_type": "code",
   "execution_count": 46,
   "id": "c5b2ad9c",
   "metadata": {},
   "outputs": [],
   "source": [
    "from sklearn.model_selection import RandomizedSearchCV\n",
    "regressor = DecisionTreeClassifier()\n",
    "hyperparameter = {\n",
    "    'criterion' : [\"gini\", \"entropy\", \"log_loss\"], \n",
    "    'splitter' : [\"best\", \"random\"], \n",
    "    'max_depth' : [1,2,3,4,5,6,7,8,9,10,11,12],\n",
    "    'max_features' : [\"auto\", \"sqrt\", \"log2\"]\n",
    "}"
   ]
  },
  {
   "cell_type": "code",
   "execution_count": 47,
   "id": "b0ff5df2",
   "metadata": {},
   "outputs": [],
   "source": [
    "regressorCV = RandomizedSearchCV(regressor,hyperparameter, cv = 5)"
   ]
  },
  {
   "cell_type": "code",
   "execution_count": 48,
   "id": "2c68d9b3",
   "metadata": {},
   "outputs": [
    {
     "data": {
      "text/html": [
       "<style>#sk-container-id-2 {color: black;}#sk-container-id-2 pre{padding: 0;}#sk-container-id-2 div.sk-toggleable {background-color: white;}#sk-container-id-2 label.sk-toggleable__label {cursor: pointer;display: block;width: 100%;margin-bottom: 0;padding: 0.3em;box-sizing: border-box;text-align: center;}#sk-container-id-2 label.sk-toggleable__label-arrow:before {content: \"▸\";float: left;margin-right: 0.25em;color: #696969;}#sk-container-id-2 label.sk-toggleable__label-arrow:hover:before {color: black;}#sk-container-id-2 div.sk-estimator:hover label.sk-toggleable__label-arrow:before {color: black;}#sk-container-id-2 div.sk-toggleable__content {max-height: 0;max-width: 0;overflow: hidden;text-align: left;background-color: #f0f8ff;}#sk-container-id-2 div.sk-toggleable__content pre {margin: 0.2em;color: black;border-radius: 0.25em;background-color: #f0f8ff;}#sk-container-id-2 input.sk-toggleable__control:checked~div.sk-toggleable__content {max-height: 200px;max-width: 100%;overflow: auto;}#sk-container-id-2 input.sk-toggleable__control:checked~label.sk-toggleable__label-arrow:before {content: \"▾\";}#sk-container-id-2 div.sk-estimator input.sk-toggleable__control:checked~label.sk-toggleable__label {background-color: #d4ebff;}#sk-container-id-2 div.sk-label input.sk-toggleable__control:checked~label.sk-toggleable__label {background-color: #d4ebff;}#sk-container-id-2 input.sk-hidden--visually {border: 0;clip: rect(1px 1px 1px 1px);clip: rect(1px, 1px, 1px, 1px);height: 1px;margin: -1px;overflow: hidden;padding: 0;position: absolute;width: 1px;}#sk-container-id-2 div.sk-estimator {font-family: monospace;background-color: #f0f8ff;border: 1px dotted black;border-radius: 0.25em;box-sizing: border-box;margin-bottom: 0.5em;}#sk-container-id-2 div.sk-estimator:hover {background-color: #d4ebff;}#sk-container-id-2 div.sk-parallel-item::after {content: \"\";width: 100%;border-bottom: 1px solid gray;flex-grow: 1;}#sk-container-id-2 div.sk-label:hover label.sk-toggleable__label {background-color: #d4ebff;}#sk-container-id-2 div.sk-serial::before {content: \"\";position: absolute;border-left: 1px solid gray;box-sizing: border-box;top: 0;bottom: 0;left: 50%;z-index: 0;}#sk-container-id-2 div.sk-serial {display: flex;flex-direction: column;align-items: center;background-color: white;padding-right: 0.2em;padding-left: 0.2em;position: relative;}#sk-container-id-2 div.sk-item {position: relative;z-index: 1;}#sk-container-id-2 div.sk-parallel {display: flex;align-items: stretch;justify-content: center;background-color: white;position: relative;}#sk-container-id-2 div.sk-item::before, #sk-container-id-2 div.sk-parallel-item::before {content: \"\";position: absolute;border-left: 1px solid gray;box-sizing: border-box;top: 0;bottom: 0;left: 50%;z-index: -1;}#sk-container-id-2 div.sk-parallel-item {display: flex;flex-direction: column;z-index: 1;position: relative;background-color: white;}#sk-container-id-2 div.sk-parallel-item:first-child::after {align-self: flex-end;width: 50%;}#sk-container-id-2 div.sk-parallel-item:last-child::after {align-self: flex-start;width: 50%;}#sk-container-id-2 div.sk-parallel-item:only-child::after {width: 0;}#sk-container-id-2 div.sk-dashed-wrapped {border: 1px dashed gray;margin: 0 0.4em 0.5em 0.4em;box-sizing: border-box;padding-bottom: 0.4em;background-color: white;}#sk-container-id-2 div.sk-label label {font-family: monospace;font-weight: bold;display: inline-block;line-height: 1.2em;}#sk-container-id-2 div.sk-label-container {text-align: center;}#sk-container-id-2 div.sk-container {/* jupyter's `normalize.less` sets `[hidden] { display: none; }` but bootstrap.min.css set `[hidden] { display: none !important; }` so we also need the `!important` here to be able to override the default hidden behavior on the sphinx rendered scikit-learn.org. See: https://github.com/scikit-learn/scikit-learn/issues/21755 */display: inline-block !important;position: relative;}#sk-container-id-2 div.sk-text-repr-fallback {display: none;}</style><div id=\"sk-container-id-2\" class=\"sk-top-container\"><div class=\"sk-text-repr-fallback\"><pre>RandomizedSearchCV(cv=5, estimator=DecisionTreeClassifier(),\n",
       "                   param_distributions={&#x27;criterion&#x27;: [&#x27;gini&#x27;, &#x27;entropy&#x27;,\n",
       "                                                      &#x27;log_loss&#x27;],\n",
       "                                        &#x27;max_depth&#x27;: [1, 2, 3, 4, 5, 6, 7, 8, 9,\n",
       "                                                      10, 11, 12],\n",
       "                                        &#x27;max_features&#x27;: [&#x27;auto&#x27;, &#x27;sqrt&#x27;,\n",
       "                                                         &#x27;log2&#x27;],\n",
       "                                        &#x27;splitter&#x27;: [&#x27;best&#x27;, &#x27;random&#x27;]})</pre><b>In a Jupyter environment, please rerun this cell to show the HTML representation or trust the notebook. <br />On GitHub, the HTML representation is unable to render, please try loading this page with nbviewer.org.</b></div><div class=\"sk-container\" hidden><div class=\"sk-item sk-dashed-wrapped\"><div class=\"sk-label-container\"><div class=\"sk-label sk-toggleable\"><input class=\"sk-toggleable__control sk-hidden--visually\" id=\"sk-estimator-id-4\" type=\"checkbox\" ><label for=\"sk-estimator-id-4\" class=\"sk-toggleable__label sk-toggleable__label-arrow\">RandomizedSearchCV</label><div class=\"sk-toggleable__content\"><pre>RandomizedSearchCV(cv=5, estimator=DecisionTreeClassifier(),\n",
       "                   param_distributions={&#x27;criterion&#x27;: [&#x27;gini&#x27;, &#x27;entropy&#x27;,\n",
       "                                                      &#x27;log_loss&#x27;],\n",
       "                                        &#x27;max_depth&#x27;: [1, 2, 3, 4, 5, 6, 7, 8, 9,\n",
       "                                                      10, 11, 12],\n",
       "                                        &#x27;max_features&#x27;: [&#x27;auto&#x27;, &#x27;sqrt&#x27;,\n",
       "                                                         &#x27;log2&#x27;],\n",
       "                                        &#x27;splitter&#x27;: [&#x27;best&#x27;, &#x27;random&#x27;]})</pre></div></div></div><div class=\"sk-parallel\"><div class=\"sk-parallel-item\"><div class=\"sk-item\"><div class=\"sk-label-container\"><div class=\"sk-label sk-toggleable\"><input class=\"sk-toggleable__control sk-hidden--visually\" id=\"sk-estimator-id-5\" type=\"checkbox\" ><label for=\"sk-estimator-id-5\" class=\"sk-toggleable__label sk-toggleable__label-arrow\">estimator: DecisionTreeClassifier</label><div class=\"sk-toggleable__content\"><pre>DecisionTreeClassifier()</pre></div></div></div><div class=\"sk-serial\"><div class=\"sk-item\"><div class=\"sk-estimator sk-toggleable\"><input class=\"sk-toggleable__control sk-hidden--visually\" id=\"sk-estimator-id-6\" type=\"checkbox\" ><label for=\"sk-estimator-id-6\" class=\"sk-toggleable__label sk-toggleable__label-arrow\">DecisionTreeClassifier</label><div class=\"sk-toggleable__content\"><pre>DecisionTreeClassifier()</pre></div></div></div></div></div></div></div></div></div></div>"
      ],
      "text/plain": [
       "RandomizedSearchCV(cv=5, estimator=DecisionTreeClassifier(),\n",
       "                   param_distributions={'criterion': ['gini', 'entropy',\n",
       "                                                      'log_loss'],\n",
       "                                        'max_depth': [1, 2, 3, 4, 5, 6, 7, 8, 9,\n",
       "                                                      10, 11, 12],\n",
       "                                        'max_features': ['auto', 'sqrt',\n",
       "                                                         'log2'],\n",
       "                                        'splitter': ['best', 'random']})"
      ]
     },
     "execution_count": 48,
     "metadata": {},
     "output_type": "execute_result"
    }
   ],
   "source": [
    "regressorCV.fit(X_train, y_train)"
   ]
  },
  {
   "cell_type": "code",
   "execution_count": 49,
   "id": "e9eb87f4",
   "metadata": {},
   "outputs": [
    {
     "data": {
      "text/plain": [
       "{'splitter': 'random',\n",
       " 'max_features': 'sqrt',\n",
       " 'max_depth': 6,\n",
       " 'criterion': 'log_loss'}"
      ]
     },
     "execution_count": 49,
     "metadata": {},
     "output_type": "execute_result"
    }
   ],
   "source": [
    "regressorCV.best_params_"
   ]
  },
  {
   "cell_type": "code",
   "execution_count": 50,
   "id": "415ba9ce",
   "metadata": {},
   "outputs": [],
   "source": [
    "from sklearn.tree  import DecisionTreeClassifier\n",
    "regressor = DecisionTreeClassifier(splitter = 'random', max_features = 'sqrt', max_depth = 8, criterion = 'gini')\n",
    "regressor.fit(X_train, y_train)\n",
    "# Predicting the test data\n",
    "pred_data = regressor.predict(X_test)"
   ]
  },
  {
   "cell_type": "code",
   "execution_count": 51,
   "id": "5293f608",
   "metadata": {},
   "outputs": [],
   "source": [
    "# Predicting the training data\n",
    "Training_data_Prediction= regressor.predict(X_train)"
   ]
  },
  {
   "cell_type": "code",
   "execution_count": 52,
   "id": "18b1fc99",
   "metadata": {},
   "outputs": [
    {
     "data": {
      "text/plain": [
       "0.6923076923076923"
      ]
     },
     "execution_count": 52,
     "metadata": {},
     "output_type": "execute_result"
    }
   ],
   "source": [
    "# Calculating the Test data accuracy\n",
    "Accuracy_test_data = accuracy_score(y_test, pred_data)\n",
    "Accuracy_test_data"
   ]
  },
  {
   "cell_type": "code",
   "execution_count": 53,
   "id": "08ddfbf3",
   "metadata": {},
   "outputs": [
    {
     "data": {
      "text/plain": [
       "0.8461538461538461"
      ]
     },
     "execution_count": 53,
     "metadata": {},
     "output_type": "execute_result"
    }
   ],
   "source": [
    "# Calculating the Training data accuracy\n",
    "Accuracy_training_data = accuracy_score(y_train, Training_data_Prediction)\n",
    "Accuracy_training_data"
   ]
  },
  {
   "cell_type": "markdown",
   "id": "857a8213",
   "metadata": {},
   "source": [
    "##### In RandomSearchCV we can clearly see there is low bias and high  variance. He we cannot consider these parameters of RandomSearchCV"
   ]
  },
  {
   "cell_type": "markdown",
   "id": "b66174ce",
   "metadata": {},
   "source": [
    "#"
   ]
  },
  {
   "cell_type": "code",
   "execution_count": null,
   "id": "1f98df1f",
   "metadata": {},
   "outputs": [],
   "source": []
  },
  {
   "cell_type": "code",
   "execution_count": null,
   "id": "6ea45e6f",
   "metadata": {},
   "outputs": [],
   "source": []
  },
  {
   "cell_type": "code",
   "execution_count": null,
   "id": "c1cde12e",
   "metadata": {},
   "outputs": [],
   "source": []
  }
 ],
 "metadata": {
  "kernelspec": {
   "display_name": "Python 3 (ipykernel)",
   "language": "python",
   "name": "python3"
  },
  "language_info": {
   "codemirror_mode": {
    "name": "ipython",
    "version": 3
   },
   "file_extension": ".py",
   "mimetype": "text/x-python",
   "name": "python",
   "nbconvert_exporter": "python",
   "pygments_lexer": "ipython3",
   "version": "3.11.4"
  }
 },
 "nbformat": 4,
 "nbformat_minor": 5
}
